{
 "cells": [
  {
   "cell_type": "markdown",
   "metadata": {},
   "source": [
    "<h1><center>Web Scrapping using Selenium</center></h1> \n"
   ]
  },
  {
   "cell_type": "markdown",
   "metadata": {},
   "source": [
    " ### Importing all the required libraries"
   ]
  },
  {
   "cell_type": "code",
   "execution_count": 19,
   "metadata": {
    "collapsed": true
   },
   "outputs": [],
   "source": [
    "from selenium import webdriver\n",
    "from selenium.webdriver.common.keys import Keys\n",
    "import time\n",
    "import pandas as pd"
   ]
  },
  {
   "cell_type": "markdown",
   "metadata": {},
   "source": [
    "### Set the path of your chrome driver"
   ]
  },
  {
   "cell_type": "code",
   "execution_count": 20,
   "metadata": {
    "collapsed": true
   },
   "outputs": [],
   "source": [
    "chrome_path = r\"C:\\Users\\KAK12\\AppData\\Local\\Continuum\\Anaconda3\\Scripts\\chromedriver.exe\"\n",
    "\n",
    "driver = webdriver.Chrome(chrome_path)"
   ]
  },
  {
   "cell_type": "markdown",
   "metadata": {},
   "source": [
    "### The link you want to scrape(I am scrapping the LinkedIn website)"
   ]
  },
  {
   "cell_type": "code",
   "execution_count": 21,
   "metadata": {
    "collapsed": true
   },
   "outputs": [],
   "source": [
    "driver.get(\"https://www.linkedin.com/jobs/\")"
   ]
  },
  {
   "cell_type": "markdown",
   "metadata": {},
   "source": [
    "### Extracting the Domains in the job listing page"
   ]
  },
  {
   "cell_type": "code",
   "execution_count": 7,
   "metadata": {
    "collapsed": true
   },
   "outputs": [],
   "source": [
    "Domain=[]\n",
    "for i in range(1,7):\n",
    "\tresult = driver.find_element_by_xpath('//*[@id=\"content-outlet\"]/section[2]/div[%s]/a/section/h4'%(i)).text\n",
    "\tDomain.append(result)"
   ]
  },
  {
   "cell_type": "code",
   "execution_count": 8,
   "metadata": {},
   "outputs": [
    {
     "data": {
      "text/plain": [
       "['Management Jobs',\n",
       " 'Sales Jobs',\n",
       " 'Engineering Jobs',\n",
       " 'Information Technology Jobs',\n",
       " 'Healthcare Jobs',\n",
       " 'Finance Jobs']"
      ]
     },
     "execution_count": 8,
     "metadata": {},
     "output_type": "execute_result"
    }
   ],
   "source": [
    "Domain"
   ]
  },
  {
   "cell_type": "markdown",
   "metadata": {},
   "source": [
    "### Extracting the link of each of the Domains page"
   ]
  },
  {
   "cell_type": "code",
   "execution_count": 9,
   "metadata": {
    "collapsed": true
   },
   "outputs": [],
   "source": [
    "link = []\n",
    "for i in range(1,7):\n",
    "\tresult1 = driver.find_element_by_xpath('//*[@id=\"content-outlet\"]/section[2]/div[%s]/a'%(i)).get_attribute(\"href\")\n",
    "\tlink.append(result1)"
   ]
  },
  {
   "cell_type": "code",
   "execution_count": 10,
   "metadata": {
    "scrolled": true
   },
   "outputs": [
    {
     "data": {
      "text/plain": [
       "['https://www.linkedin.com/jobs/management-jobs?trk=guest_jobs_homepage',\n",
       " 'https://www.linkedin.com/jobs/sales-jobs?trk=guest_jobs_homepage',\n",
       " 'https://www.linkedin.com/jobs/engineering-jobs?trk=guest_jobs_homepage',\n",
       " 'https://www.linkedin.com/jobs/information-technology-jobs?trk=guest_jobs_homepage',\n",
       " 'https://www.linkedin.com/jobs/healthcare-jobs?trk=guest_jobs_homepage',\n",
       " 'https://www.linkedin.com/jobs/finance-jobs?trk=guest_jobs_homepage']"
      ]
     },
     "execution_count": 10,
     "metadata": {},
     "output_type": "execute_result"
    }
   ],
   "source": [
    "link"
   ]
  },
  {
   "cell_type": "markdown",
   "metadata": {},
   "source": [
    "### Iterating through the link and grabbing the number of job postings specific to each domain"
   ]
  },
  {
   "cell_type": "code",
   "execution_count": 13,
   "metadata": {
    "collapsed": true
   },
   "outputs": [],
   "source": [
    "#Number of job postings\n",
    "a=[]\n",
    "for i in range(1,7): \n",
    "\tdriver.find_element_by_xpath('//*[@id=\"content-outlet\"]/section[2]/div[%s]/div/a'%(i)).click()\n",
    "\ta.append(driver.find_element_by_xpath('//*[@id=\"content-outlet\"]/div/section[3]/div[2]/div/section[1]/div/div[1]/div/div/strong').text)\n",
    "\t#To go back to the previous page\n",
    "\tdriver.execute_script(\"window.history.go(-1)\")\n"
   ]
  },
  {
   "cell_type": "markdown",
   "metadata": {},
   "source": [
    "### Converting it to a dataframe "
   ]
  },
  {
   "cell_type": "code",
   "execution_count": 14,
   "metadata": {
    "collapsed": true
   },
   "outputs": [],
   "source": [
    "job_listing_df = pd.DataFrame({'Domain' : Domain , 'Link' : link , 'No_of_Job_openings' : a})"
   ]
  },
  {
   "cell_type": "code",
   "execution_count": 15,
   "metadata": {
    "scrolled": true
   },
   "outputs": [
    {
     "data": {
      "text/html": [
       "<div>\n",
       "<style>\n",
       "    .dataframe thead tr:only-child th {\n",
       "        text-align: right;\n",
       "    }\n",
       "\n",
       "    .dataframe thead th {\n",
       "        text-align: left;\n",
       "    }\n",
       "\n",
       "    .dataframe tbody tr th {\n",
       "        vertical-align: top;\n",
       "    }\n",
       "</style>\n",
       "<table border=\"1\" class=\"dataframe\">\n",
       "  <thead>\n",
       "    <tr style=\"text-align: right;\">\n",
       "      <th></th>\n",
       "      <th>Domain</th>\n",
       "      <th>Link</th>\n",
       "      <th>No_of_Job_openings</th>\n",
       "    </tr>\n",
       "  </thead>\n",
       "  <tbody>\n",
       "    <tr>\n",
       "      <th>0</th>\n",
       "      <td>Management Jobs</td>\n",
       "      <td>https://www.linkedin.com/jobs/management-jobs?...</td>\n",
       "      <td>2,029,520</td>\n",
       "    </tr>\n",
       "    <tr>\n",
       "      <th>1</th>\n",
       "      <td>Sales Jobs</td>\n",
       "      <td>https://www.linkedin.com/jobs/sales-jobs?trk=g...</td>\n",
       "      <td>1,260,888</td>\n",
       "    </tr>\n",
       "    <tr>\n",
       "      <th>2</th>\n",
       "      <td>Engineering Jobs</td>\n",
       "      <td>https://www.linkedin.com/jobs/engineering-jobs...</td>\n",
       "      <td>383,760</td>\n",
       "    </tr>\n",
       "    <tr>\n",
       "      <th>3</th>\n",
       "      <td>Information Technology Jobs</td>\n",
       "      <td>https://www.linkedin.com/jobs/information-tech...</td>\n",
       "      <td>73,357</td>\n",
       "    </tr>\n",
       "    <tr>\n",
       "      <th>4</th>\n",
       "      <td>Healthcare Jobs</td>\n",
       "      <td>https://www.linkedin.com/jobs/healthcare-jobs?...</td>\n",
       "      <td>584,168</td>\n",
       "    </tr>\n",
       "    <tr>\n",
       "      <th>5</th>\n",
       "      <td>Finance Jobs</td>\n",
       "      <td>https://www.linkedin.com/jobs/finance-jobs?trk...</td>\n",
       "      <td>188,505</td>\n",
       "    </tr>\n",
       "  </tbody>\n",
       "</table>\n",
       "</div>"
      ],
      "text/plain": [
       "                        Domain  \\\n",
       "0              Management Jobs   \n",
       "1                   Sales Jobs   \n",
       "2             Engineering Jobs   \n",
       "3  Information Technology Jobs   \n",
       "4              Healthcare Jobs   \n",
       "5                 Finance Jobs   \n",
       "\n",
       "                                                Link No_of_Job_openings  \n",
       "0  https://www.linkedin.com/jobs/management-jobs?...          2,029,520  \n",
       "1  https://www.linkedin.com/jobs/sales-jobs?trk=g...          1,260,888  \n",
       "2  https://www.linkedin.com/jobs/engineering-jobs...            383,760  \n",
       "3  https://www.linkedin.com/jobs/information-tech...             73,357  \n",
       "4  https://www.linkedin.com/jobs/healthcare-jobs?...            584,168  \n",
       "5  https://www.linkedin.com/jobs/finance-jobs?trk...            188,505  "
      ]
     },
     "execution_count": 15,
     "metadata": {},
     "output_type": "execute_result"
    }
   ],
   "source": [
    "job_listing_df"
   ]
  },
  {
   "cell_type": "markdown",
   "metadata": {},
   "source": [
    "### Getting the input from the user about the job title and location and passing it on to the browser "
   ]
  },
  {
   "cell_type": "code",
   "execution_count": 29,
   "metadata": {},
   "outputs": [
    {
     "name": "stdout",
     "output_type": "stream",
     "text": [
      "Enter a Job_title: Data Analytics\n",
      "Enter a Job_location: Dallas, Texas\n"
     ]
    }
   ],
   "source": [
    "#Enter the Job_position\n",
    "job_title = input(\"Enter a Job_title: \")\n",
    "job_seach=driver.find_element_by_xpath('//*[@id=\"keyword-search-box\"]').clear()\n",
    "job_search=driver.find_element_by_xpath('//*[@id=\"keyword-search-box\"]')\n",
    "job_search.send_keys(job_title)\n",
    "\n",
    "#Enter the location\n",
    "job_locate = input(\"Enter a Job_location: \")\n",
    "job_location=driver.find_element_by_xpath('//*[@id=\"location-search-box\"]').clear()\n",
    "job_location=driver.find_element_by_xpath('//*[@id=\"location-search-box\"]')\n",
    "job_location.send_keys(job_locate)\n",
    "\n",
    "#Search\n",
    "driver.find_element_by_xpath('//*[@id=\"content-outlet\"]/section[1]/div/div/section/form/div/button').click()"
   ]
  },
  {
   "cell_type": "markdown",
   "metadata": {},
   "source": [
    "### Getting the number of job openings for the specific job title and location"
   ]
  },
  {
   "cell_type": "code",
   "execution_count": null,
   "metadata": {
    "collapsed": true
   },
   "outputs": [],
   "source": [
    "driver.find_element_by_xpath('//*[@id=\"content-outlet\"]/div/section[3]/div[2]/div/section[1]/div/div[1]/div/div/strong').text"
   ]
  },
  {
   "cell_type": "markdown",
   "metadata": {},
   "source": [
    "### Feeding in the US_Cities and States Dataset"
   ]
  },
  {
   "cell_type": "code",
   "execution_count": 4,
   "metadata": {
    "collapsed": true
   },
   "outputs": [],
   "source": [
    "city_state = pd.read_csv(\"city_State_database.csv\")"
   ]
  },
  {
   "cell_type": "code",
   "execution_count": 56,
   "metadata": {},
   "outputs": [
    {
     "data": {
      "text/html": [
       "<div>\n",
       "<style>\n",
       "    .dataframe thead tr:only-child th {\n",
       "        text-align: right;\n",
       "    }\n",
       "\n",
       "    .dataframe thead th {\n",
       "        text-align: left;\n",
       "    }\n",
       "\n",
       "    .dataframe tbody tr th {\n",
       "        vertical-align: top;\n",
       "    }\n",
       "</style>\n",
       "<table border=\"1\" class=\"dataframe\">\n",
       "  <thead>\n",
       "    <tr style=\"text-align: right;\">\n",
       "      <th></th>\n",
       "      <th>primary_city</th>\n",
       "      <th>state</th>\n",
       "    </tr>\n",
       "  </thead>\n",
       "  <tbody>\n",
       "    <tr>\n",
       "      <th>0</th>\n",
       "      <td>Holtsville</td>\n",
       "      <td>NY</td>\n",
       "    </tr>\n",
       "    <tr>\n",
       "      <th>1</th>\n",
       "      <td>Adjuntas</td>\n",
       "      <td>PR</td>\n",
       "    </tr>\n",
       "    <tr>\n",
       "      <th>2</th>\n",
       "      <td>Aguada</td>\n",
       "      <td>PR</td>\n",
       "    </tr>\n",
       "    <tr>\n",
       "      <th>3</th>\n",
       "      <td>Aguadilla</td>\n",
       "      <td>PR</td>\n",
       "    </tr>\n",
       "    <tr>\n",
       "      <th>4</th>\n",
       "      <td>Maricao</td>\n",
       "      <td>PR</td>\n",
       "    </tr>\n",
       "  </tbody>\n",
       "</table>\n",
       "</div>"
      ],
      "text/plain": [
       "  primary_city state\n",
       "0   Holtsville    NY\n",
       "1     Adjuntas    PR\n",
       "2       Aguada    PR\n",
       "3    Aguadilla    PR\n",
       "4      Maricao    PR"
      ]
     },
     "execution_count": 56,
     "metadata": {},
     "output_type": "execute_result"
    }
   ],
   "source": [
    "city_state.head()\n"
   ]
  },
  {
   "cell_type": "code",
   "execution_count": 14,
   "metadata": {
    "collapsed": true
   },
   "outputs": [],
   "source": [
    "city_state['Location'] = city_state['primary_city'] + \", \" +city_state['state']"
   ]
  },
  {
   "cell_type": "markdown",
   "metadata": {},
   "source": [
    "### Passing in the Location value to grab the count of job openings but US cities and states for Data Analytics position"
   ]
  },
  {
   "cell_type": "code",
   "execution_count": null,
   "metadata": {
    "collapsed": true
   },
   "outputs": [],
   "source": [
    "job_posts = []\n",
    "for i in city_state['Location'].iloc[0:29785]:\n",
    "    \n",
    "    time.sleep(30)\n",
    "    \n",
    "    job_seach=driver.find_element_by_xpath('//*[@id=\"keyword-search-box\"]').clear()\n",
    "    job_search=driver.find_element_by_xpath('//*[@id=\"keyword-search-box\"]')\n",
    "    job_search.send_keys('Data Analytics')\n",
    "    \n",
    "    job_location=driver.find_element_by_xpath('//*[@id=\"location-search-box\"]').clear()\n",
    "    job_location=driver.find_element_by_xpath('//*[@id=\"location-search-box\"]')\n",
    "    job_location.send_keys(i)\n",
    "    \n",
    "    driver.find_element_by_xpath('//*[@id=\"content-outlet\"]/section[1]/div/div/section/form/div/button').click()\n",
    "    job_posts.append(driver.find_element_by_xpath('//*[@id=\"content-outlet\"]/div/section[3]/div[2]/div/section[1]/div/div[1]/div/div/strong').text)\n",
    "    driver.execute_script(\"window.history.go(-1)\")"
   ]
  },
  {
   "cell_type": "code",
   "execution_count": null,
   "metadata": {
    "collapsed": true
   },
   "outputs": [],
   "source": [
    "city_state_sample = city_state[0:29786]\n",
    "city_state_sample['Job_postings'] = job_posts"
   ]
  },
  {
   "cell_type": "markdown",
   "metadata": {},
   "source": [
    "## A Dataframe which shows the count of Data Analytics job postings by location"
   ]
  },
  {
   "cell_type": "code",
   "execution_count": 76,
   "metadata": {},
   "outputs": [
    {
     "data": {
      "text/html": [
       "<div>\n",
       "<style>\n",
       "    .dataframe thead tr:only-child th {\n",
       "        text-align: right;\n",
       "    }\n",
       "\n",
       "    .dataframe thead th {\n",
       "        text-align: left;\n",
       "    }\n",
       "\n",
       "    .dataframe tbody tr th {\n",
       "        vertical-align: top;\n",
       "    }\n",
       "</style>\n",
       "<table border=\"1\" class=\"dataframe\">\n",
       "  <thead>\n",
       "    <tr style=\"text-align: right;\">\n",
       "      <th></th>\n",
       "      <th>primary_city</th>\n",
       "      <th>state</th>\n",
       "      <th>Location</th>\n",
       "      <th>Job_postings</th>\n",
       "    </tr>\n",
       "  </thead>\n",
       "  <tbody>\n",
       "    <tr>\n",
       "      <th>0</th>\n",
       "      <td>Holtsville</td>\n",
       "      <td>NY</td>\n",
       "      <td>Holtsville, NY</td>\n",
       "      <td>54</td>\n",
       "    </tr>\n",
       "    <tr>\n",
       "      <th>1</th>\n",
       "      <td>Adjuntas</td>\n",
       "      <td>PR</td>\n",
       "      <td>Adjuntas, PR</td>\n",
       "      <td>2,370</td>\n",
       "    </tr>\n",
       "    <tr>\n",
       "      <th>2</th>\n",
       "      <td>Aguada</td>\n",
       "      <td>PR</td>\n",
       "      <td>Aguada, PR</td>\n",
       "      <td>717</td>\n",
       "    </tr>\n",
       "    <tr>\n",
       "      <th>3</th>\n",
       "      <td>Aguadilla</td>\n",
       "      <td>PR</td>\n",
       "      <td>Aguadilla, PR</td>\n",
       "      <td>756</td>\n",
       "    </tr>\n",
       "    <tr>\n",
       "      <th>4</th>\n",
       "      <td>Maricao</td>\n",
       "      <td>PR</td>\n",
       "      <td>Maricao, PR</td>\n",
       "      <td>1,354</td>\n",
       "    </tr>\n",
       "  </tbody>\n",
       "</table>\n",
       "</div>"
      ],
      "text/plain": [
       "  primary_city state        Location Job_postings\n",
       "0   Holtsville    NY  Holtsville, NY           54\n",
       "1     Adjuntas    PR    Adjuntas, PR        2,370\n",
       "2       Aguada    PR      Aguada, PR          717\n",
       "3    Aguadilla    PR   Aguadilla, PR          756\n",
       "4      Maricao    PR     Maricao, PR        1,354"
      ]
     },
     "execution_count": 76,
     "metadata": {},
     "output_type": "execute_result"
    }
   ],
   "source": [
    "city_state_sample"
   ]
  }
 ],
 "metadata": {
  "kernelspec": {
   "display_name": "Python 3",
   "language": "python",
   "name": "python3"
  },
  "language_info": {
   "codemirror_mode": {
    "name": "ipython",
    "version": 3
   },
   "file_extension": ".py",
   "mimetype": "text/x-python",
   "name": "python",
   "nbconvert_exporter": "python",
   "pygments_lexer": "ipython3",
   "version": "3.6.1"
  }
 },
 "nbformat": 4,
 "nbformat_minor": 2
}
