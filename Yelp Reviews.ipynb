{
 "cells": [
  {
   "cell_type": "markdown",
   "metadata": {},
   "source": [
    "## Yelp Review - Scrapper"
   ]
  },
  {
   "cell_type": "markdown",
   "metadata": {},
   "source": [
    "## Importing all required libraries"
   ]
  },
  {
   "cell_type": "code",
   "execution_count": 1,
   "metadata": {
    "collapsed": true
   },
   "outputs": [],
   "source": [
    "from selenium import webdriver\n",
    "from selenium.webdriver.common.keys import Keys\n",
    "import time\n",
    "import pandas as pd\n",
    "\n",
    "chrome_path = r\"C:\\Users\\KAK12\\AppData\\Local\\Continuum\\Anaconda3\\Scripts\\chromedriver.exe\"\n",
    "\n",
    "driver = webdriver.Chrome(chrome_path)"
   ]
  },
  {
   "cell_type": "markdown",
   "metadata": {},
   "source": [
    "## Yelp website"
   ]
  },
  {
   "cell_type": "code",
   "execution_count": 2,
   "metadata": {
    "collapsed": true
   },
   "outputs": [],
   "source": [
    "driver.get(\"https://www.yelp.com/biz/mgm-grand-hotel-las-vegas\")"
   ]
  },
  {
   "cell_type": "markdown",
   "metadata": {},
   "source": [
    "## Scrapping the reviews"
   ]
  },
  {
   "cell_type": "code",
   "execution_count": 86,
   "metadata": {
    "collapsed": true
   },
   "outputs": [],
   "source": [
    "rev = []\n",
    "date_posted = []\n",
    "for i in range(2,20):\n",
    "    r=driver.find_element_by_xpath('//*[@id=\"super-container\"]/div/div/div[1]/div[4]/div[2]/div[2]/ul/li[%s]/div/div[2]/div[1]/p'%(i)).text\n",
    "    t=driver.find_element_by_xpath('//*[@id=\"super-container\"]/div/div/div[1]/div[4]/div[2]/div[2]/ul/li[%s]/div/div[2]/div[1]/div/span'%(i)).text\n",
    "    date_posted.append(t)\n",
    "    rev.append(r)\n",
    "    \n"
   ]
  },
  {
   "cell_type": "code",
   "execution_count": null,
   "metadata": {
    "collapsed": true
   },
   "outputs": [],
   "source": [
    "import sklearn.feature_extraction.text as text\n",
    "import numpy as np\n",
    "\n",
    "cv = text.TfidfVectorizer(rev, stop_words='english')\n",
    "doc_term_matrix = cv.fit_transform(rev)"
   ]
  },
  {
   "cell_type": "code",
   "execution_count": 91,
   "metadata": {},
   "outputs": [
    {
     "data": {
      "text/plain": [
       "['Stayed there for 3 nights with a friend. We stayed at West Wing ( I think )',\n",
       " 'Here are some useful tips for thrifty tourist! lol',\n",
       " '',\n",
       " \"1. I brought my own coffee and coffee maker since they don't have them at the room. There are Starbucks at the hotel but I normally wants coffee first thing in the morning without leaving my room so this was better for me. No fridge, no microwave. I also brought cup noodle thing for late night snack. Bring a water bottle and always carry them. I always get mine filled at restaurant every time. I drink a lot of water! At night I fill bottle with ice so I have cold water to drink in the morning. Hotel has store but they are sold at high price of course.\",\n",
       " '',\n",
       " '2. Carry a plastic bag on you on the way to your hotel room when you first get there, stop at ice machine and get ice then. The walk to our room was pretty long from ice machine.',\n",
       " '',\n",
       " \"3.Our check out time was 11am, our flight didn't leave until 5pm so we hang out at the pool area.We checked out using their TV in the room, Keep your room key card bacause you need it to get into pool area, they  have a place to store your luggage at the lobby so just carry minimum of what you need for the pool. They have towel and shower you can rinse but it's one of those outside shower so you need to dry and change in bathroom. Shower is located right next to bathroom! We did find seats for us by shower area, there are enough trees that gave us good shade. Those are free but Cabana or umbrella cost. They check your bag at the pool entry, I didn't bring in food just my water bottle it was ok. I don't know if it's allowed or not but he didn't say anything. Worst case just dump it out :)   There were a lot of people but me and friend just wanted to stay there and didn't leave so no need to use lockers for valuables. Locker costs $10 not so big either. So just remember what's important to bring :)  They have food, just know it's hotel price. But Nacho was good size so price wasn't bad I thought. We had nacho ( Big enough size to share maybe 3 or 4 people? ) and chicken tender with fries. ( A few strips and came with fries? Not too sure )\",\n",
       " '',\n",
       " '4. Get UBER and LYFT app. Get sign up bonus credit!! We each for both apps for the first time and used free credit so ended up paying like $4 my money during this trip! Not bad at all!! Make sure to tip the driver! It was our first time with these driving service and I was pleased! Hotel has spots for those services for convenience. ( Basement ? B1? When you are at the lobby you will see signs directing to UBER, kinda thing )',\n",
       " '',\n",
       " \"5. Breakfast buffet is high price, went to Denny's around the corner ( 5 min walking or less? ) Good steak and eggs I loved!!  They have Ross or Marshall , ABC store where I bought something cheaper than Hotel of course\",\n",
       " '',\n",
       " \"6. We bought show tickets beforehand on some website. Turns out ( Cirque Du Soleil we watched ) they had plenty left and were sold at the hotel and it was like $30 cheaper per ticket. But I don't know it could be sold out fast so you decide! Show was great and that was my favorite.\",\n",
       " '',\n",
       " \"7. Casino was open 24hrs I think? I went there after midnight and it was so much fun!  I mean you have to try it when you are in Vegas. I did slot machine and Roulette. For slot machine Just put bill in the machine which I didn't know and then start playing. When you are done just hit cash out and it spits out a piece of paper with amount of money you have, take it to kiosk kinda spot and get your money!\",\n",
       " '',\n",
       " 'ENJOY']"
      ]
     },
     "execution_count": 91,
     "metadata": {},
     "output_type": "execute_result"
    }
   ],
   "source": [
    "import string\n",
    "reviews = [i.split('\\n') for i in rev]"
   ]
  },
  {
   "cell_type": "code",
   "execution_count": null,
   "metadata": {
    "collapsed": true
   },
   "outputs": [],
   "source": [
    "for i in string.punctuation:\n",
    "  reviews = str.replace(reviews,\" \")"
   ]
  },
  {
   "cell_type": "markdown",
   "metadata": {},
   "source": [
    "## Preparing a dataset with reviews and the posted date"
   ]
  },
  {
   "cell_type": "code",
   "execution_count": 88,
   "metadata": {
    "collapsed": true
   },
   "outputs": [],
   "source": [
    "reviews_df = pd.DataFrame({'Posted_date' : date_posted , 'Reviews' : reviews})"
   ]
  },
  {
   "cell_type": "code",
   "execution_count": 89,
   "metadata": {},
   "outputs": [
    {
     "data": {
      "text/html": [
       "<div>\n",
       "<style>\n",
       "    .dataframe thead tr:only-child th {\n",
       "        text-align: right;\n",
       "    }\n",
       "\n",
       "    .dataframe thead th {\n",
       "        text-align: left;\n",
       "    }\n",
       "\n",
       "    .dataframe tbody tr th {\n",
       "        vertical-align: top;\n",
       "    }\n",
       "</style>\n",
       "<table border=\"1\" class=\"dataframe\">\n",
       "  <thead>\n",
       "    <tr style=\"text-align: right;\">\n",
       "      <th></th>\n",
       "      <th>Posted_date</th>\n",
       "      <th>Reviews</th>\n",
       "    </tr>\n",
       "  </thead>\n",
       "  <tbody>\n",
       "    <tr>\n",
       "      <th>0</th>\n",
       "      <td>9/19/2017</td>\n",
       "      <td>[When in Vegas I always appreciate a well lit ...</td>\n",
       "    </tr>\n",
       "    <tr>\n",
       "      <th>1</th>\n",
       "      <td>9/18/2017</td>\n",
       "      <td>[Stayed there for 3 nights with a friend. We s...</td>\n",
       "    </tr>\n",
       "    <tr>\n",
       "      <th>2</th>\n",
       "      <td>9/14/2017</td>\n",
       "      <td>[Short version is that I booked a King bed. I ...</td>\n",
       "    </tr>\n",
       "    <tr>\n",
       "      <th>3</th>\n",
       "      <td>8/28/2017</td>\n",
       "      <td>[MGM is a beautiful hotel and this is where yo...</td>\n",
       "    </tr>\n",
       "    <tr>\n",
       "      <th>4</th>\n",
       "      <td>8/15/2017</td>\n",
       "      <td>[Very hospitable and accommodating!, , I'm a l...</td>\n",
       "    </tr>\n",
       "    <tr>\n",
       "      <th>5</th>\n",
       "      <td>8/5/2017</td>\n",
       "      <td>[MGM Grand Hotel is a sure shot on The Strip.,...</td>\n",
       "    </tr>\n",
       "    <tr>\n",
       "      <th>6</th>\n",
       "      <td>9/13/2017</td>\n",
       "      <td>[Overall, I would rate the MGM as meh.  I was ...</td>\n",
       "    </tr>\n",
       "    <tr>\n",
       "      <th>7</th>\n",
       "      <td>7/26/2017</td>\n",
       "      <td>[Beware of the West Wing! We stayed here for M...</td>\n",
       "    </tr>\n",
       "    <tr>\n",
       "      <th>8</th>\n",
       "      <td>9/13/2017</td>\n",
       "      <td>[Awesome hotel, fantastic lobby excellent rest...</td>\n",
       "    </tr>\n",
       "    <tr>\n",
       "      <th>9</th>\n",
       "      <td>8/29/2017</td>\n",
       "      <td>[always a welcoming hotel, the lobby is huge a...</td>\n",
       "    </tr>\n",
       "    <tr>\n",
       "      <th>10</th>\n",
       "      <td>6/24/2017</td>\n",
       "      <td>[This was my first time staying at the MGM aft...</td>\n",
       "    </tr>\n",
       "    <tr>\n",
       "      <th>11</th>\n",
       "      <td>8/15/2017</td>\n",
       "      <td>[We came here on a business/pleasure trip as D...</td>\n",
       "    </tr>\n",
       "    <tr>\n",
       "      <th>12</th>\n",
       "      <td>8/30/2017</td>\n",
       "      <td>[The casino itself is huge and a little diffic...</td>\n",
       "    </tr>\n",
       "    <tr>\n",
       "      <th>13</th>\n",
       "      <td>7/29/2017</td>\n",
       "      <td>[When hotels, or any business for that matter,...</td>\n",
       "    </tr>\n",
       "    <tr>\n",
       "      <th>14</th>\n",
       "      <td>9/9/2017</td>\n",
       "      <td>[Would I stay here again? No. Here is why...I ...</td>\n",
       "    </tr>\n",
       "    <tr>\n",
       "      <th>15</th>\n",
       "      <td>5/6/2017</td>\n",
       "      <td>[MGM offers the quintessential Vegas Strip hot...</td>\n",
       "    </tr>\n",
       "    <tr>\n",
       "      <th>16</th>\n",
       "      <td>7/26/2017</td>\n",
       "      <td>[My wife and I have been staying at the MGM fo...</td>\n",
       "    </tr>\n",
       "    <tr>\n",
       "      <th>17</th>\n",
       "      <td>9/7/2017</td>\n",
       "      <td>[Absolutely NO complaints about MGM!, , I've b...</td>\n",
       "    </tr>\n",
       "  </tbody>\n",
       "</table>\n",
       "</div>"
      ],
      "text/plain": [
       "   Posted_date                                            Reviews\n",
       "0    9/19/2017  [When in Vegas I always appreciate a well lit ...\n",
       "1    9/18/2017  [Stayed there for 3 nights with a friend. We s...\n",
       "2    9/14/2017  [Short version is that I booked a King bed. I ...\n",
       "3    8/28/2017  [MGM is a beautiful hotel and this is where yo...\n",
       "4    8/15/2017  [Very hospitable and accommodating!, , I'm a l...\n",
       "5     8/5/2017  [MGM Grand Hotel is a sure shot on The Strip.,...\n",
       "6    9/13/2017  [Overall, I would rate the MGM as meh.  I was ...\n",
       "7    7/26/2017  [Beware of the West Wing! We stayed here for M...\n",
       "8    9/13/2017  [Awesome hotel, fantastic lobby excellent rest...\n",
       "9    8/29/2017  [always a welcoming hotel, the lobby is huge a...\n",
       "10   6/24/2017  [This was my first time staying at the MGM aft...\n",
       "11   8/15/2017  [We came here on a business/pleasure trip as D...\n",
       "12   8/30/2017  [The casino itself is huge and a little diffic...\n",
       "13   7/29/2017  [When hotels, or any business for that matter,...\n",
       "14    9/9/2017  [Would I stay here again? No. Here is why...I ...\n",
       "15    5/6/2017  [MGM offers the quintessential Vegas Strip hot...\n",
       "16   7/26/2017  [My wife and I have been staying at the MGM fo...\n",
       "17    9/7/2017  [Absolutely NO complaints about MGM!, , I've b..."
      ]
     },
     "execution_count": 89,
     "metadata": {},
     "output_type": "execute_result"
    }
   ],
   "source": [
    "reviews_df\n"
   ]
  }
 ],
 "metadata": {
  "kernelspec": {
   "display_name": "Python 3",
   "language": "python",
   "name": "python3"
  },
  "language_info": {
   "codemirror_mode": {
    "name": "ipython",
    "version": 3
   },
   "file_extension": ".py",
   "mimetype": "text/x-python",
   "name": "python",
   "nbconvert_exporter": "python",
   "pygments_lexer": "ipython3",
   "version": "3.6.1"
  }
 },
 "nbformat": 4,
 "nbformat_minor": 2
}
